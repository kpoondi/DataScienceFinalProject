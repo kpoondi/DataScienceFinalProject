{
 "cells": [
  {
   "cell_type": "code",
   "execution_count": 112,
   "metadata": {},
   "outputs": [],
   "source": [
    "import pandas as pd \n",
    "import numpy as np"
   ]
  },
  {
   "cell_type": "code",
   "execution_count": 122,
   "metadata": {},
   "outputs": [],
   "source": [
    "raw_data = pd.read_csv(\"meta-data.csv\")"
   ]
  },
  {
   "cell_type": "code",
   "execution_count": 123,
   "metadata": {
    "scrolled": false
   },
   "outputs": [
    {
     "name": "stdout",
     "output_type": "stream",
     "text": [
      "(50025, 9)\n",
      "(47254, 9)\n"
     ]
    }
   ],
   "source": [
    "print(raw_data.shape)\n",
    "shoes = raw_data.dropna(subset=['Material', 'Gender'])\n",
    "print(shoes.shape)"
   ]
  },
  {
   "cell_type": "code",
   "execution_count": 124,
   "metadata": {},
   "outputs": [],
   "source": [
    "materials = shoes.Material.unique()\n"
   ]
  },
  {
   "cell_type": "code",
   "execution_count": 125,
   "metadata": {},
   "outputs": [
    {
     "name": "stdout",
     "output_type": "stream",
     "text": [
      "(11683, 9)\n"
     ]
    }
   ],
   "source": [
    "classification = []\n",
    "\n",
    "shoes = shoes.loc[shoes['Gender'] == \"Men\"]\n",
    "print(shoes.shape)\n",
    "for material in shoes['Material']:\n",
    "    if \"Leather\" in material or \"skin\" in material:\n",
    "        classification.append(1)\n",
    "    else:\n",
    "        classification.append(0)\n",
    "        \n",
    "shoes = shoes.assign(ClassicCasual=classification)\n",
    "shoes.to_csv(\"classified.csv\", index=False)"
   ]
  }
 ],
 "metadata": {
  "kernelspec": {
   "display_name": "Python 3",
   "language": "python",
   "name": "python3"
  },
  "language_info": {
   "codemirror_mode": {
    "name": "ipython",
    "version": 3
   },
   "file_extension": ".py",
   "mimetype": "text/x-python",
   "name": "python",
   "nbconvert_exporter": "python",
   "pygments_lexer": "ipython3",
   "version": "3.6.0"
  }
 },
 "nbformat": 4,
 "nbformat_minor": 2
}
