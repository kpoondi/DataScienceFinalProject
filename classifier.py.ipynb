{
 "cells": [
  {
   "cell_type": "code",
   "execution_count": 3,
   "metadata": {},
   "outputs": [],
   "source": [
    "import pandas as pd \n",
    "import numpy as np"
   ]
  },
  {
   "cell_type": "code",
   "execution_count": 4,
   "metadata": {},
   "outputs": [],
   "source": [
    "raw_data = pd.read_csv(\"meta-data.csv\")"
   ]
  },
  {
   "cell_type": "code",
   "execution_count": 5,
   "metadata": {
    "scrolled": false
   },
   "outputs": [
    {
     "name": "stdout",
     "output_type": "stream",
     "text": [
      "(50025, 9)\n",
      "(47254, 9)\n"
     ]
    }
   ],
   "source": [
    "print(raw_data.shape)\n",
    "shoes = raw_data.dropna(subset=['Material', 'Gender'])\n",
    "print(shoes.shape)"
   ]
  },
  {
   "cell_type": "code",
   "execution_count": 7,
   "metadata": {},
   "outputs": [],
   "source": [
    "materials = shoes.Material.unique()"
   ]
  },
  {
   "cell_type": "code",
   "execution_count": 9,
   "metadata": {},
   "outputs": [
    {
     "name": "stdout",
     "output_type": "stream",
     "text": [
      "(11683, 10)\n"
     ]
    }
   ],
   "source": [
    "classification = []\n",
    "\n",
    "shoes = shoes.loc[shoes['Gender'] == \"Men\"]\n",
    "print(shoes.shape)\n",
    "for material in shoes['Material']:\n",
    "    if \"Leather\" in material or \"skin\" in material:\n",
    "        classification.append(1)\n",
    "    else:\n",
    "        classification.append(0)\n",
    "        \n",
    "shoes = shoes.assign(ClassicCasual=classification)\n",
    "shoes.to_csv(\"classified.csv\", index=False)"
   ]
  },
  {
   "cell_type": "code",
   "execution_count": 11,
   "metadata": {},
   "outputs": [],
   "source": [
    "from PIL import Image\n",
    "import glob\n",
    "\n",
    "image_list = []\n",
    "for filename in glob.glob('./Sports_Mini/*'):\n",
    "    im=Image.open(filename)\n",
    "    image_list.append(im)"
   ]
  }
 ],
 "metadata": {
  "kernelspec": {
   "display_name": "Python 3",
   "language": "python",
   "name": "python3"
  },
  "language_info": {
   "codemirror_mode": {
    "name": "ipython",
    "version": 3
   },
   "file_extension": ".py",
   "mimetype": "text/x-python",
   "name": "python",
   "nbconvert_exporter": "python",
   "pygments_lexer": "ipython3",
   "version": "3.6.0"
  }
 },
 "nbformat": 4,
 "nbformat_minor": 2
}
