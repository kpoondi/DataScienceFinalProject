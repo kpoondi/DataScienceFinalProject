{
 "cells": [
  {
   "cell_type": "code",
   "execution_count": 1,
   "metadata": {},
   "outputs": [],
   "source": [
    "from skimage import io as skio\n",
    "from skimage import filters\n",
    "import numpy as np\n",
    "import matplotlib.pyplot as plt\n",
    "from scipy import ndimage as ndi\n",
    "from skimage import morphology\n",
    "import cv2"
   ]
  },
  {
   "cell_type": "code",
   "execution_count": 2,
   "metadata": {},
   "outputs": [],
   "source": [
    "img_path = \"C:\\\\Users\\jason\\\\UT\\Junior_1st_Semester\\EE_460J\\\\finalProject\\DataScienceFinalProject\\Formals\\\\102170.216.jpg\"\n",
    "#img_path = 'http://i.stack.imgur.com/SYxmp.jpg'\n",
    "\n",
    "img = skio.imread(img_path)\n",
    "#sobel = filters.sobel(img)\n",
    "\n",
    "\n",
    "light_spots = np.array((img > 245).nonzero()).T\n",
    "#plt.plot(light_spots[:, 1], light_spots[:, 0], 'o')\n",
    "#plt.imshow(img)\n",
    "#plt.title('light spots in image')\n",
    "dark_spots = np.array((img < 3).nonzero()).T\n",
    "#dark_spots = np.array((img < 100).nonzero()).T\n",
    "#plt.plot(dark_spots[:, 1], dark_spots[:, 0], 'o')\n",
    "#plt.imshow(img)\n",
    "#plt.title('dark spots in image')"
   ]
  },
  {
   "cell_type": "code",
   "execution_count": null,
   "metadata": {},
   "outputs": [],
   "source": []
  },
  {
   "cell_type": "code",
   "execution_count": 39,
   "metadata": {},
   "outputs": [
    {
     "data": {
      "text/plain": [
       "2"
      ]
     },
     "execution_count": 39,
     "metadata": {},
     "output_type": "execute_result"
    }
   ],
   "source": [
    "bool_mask = np.zeros(img.shape, dtype=np.bool)\n",
    "bool_mask[tuple(light_spots.T)] = True\n",
    "bool_mask[tuple(dark_spots.T)] = True\n",
    "seed_mask, num_seeds = ndi.label(bool_mask)\n",
    "num_seeds"
   ]
  },
  {
   "cell_type": "code",
   "execution_count": 40,
   "metadata": {},
   "outputs": [
    {
     "ename": "NameError",
     "evalue": "name 'blurred' is not defined",
     "output_type": "error",
     "traceback": [
      "\u001b[1;31m---------------------------------------------------------------------------\u001b[0m",
      "\u001b[1;31mNameError\u001b[0m                                 Traceback (most recent call last)",
      "\u001b[1;32m<ipython-input-40-0ecf8b930a52>\u001b[0m in \u001b[0;36m<module>\u001b[1;34m()\u001b[0m\n\u001b[1;32m----> 1\u001b[1;33m \u001b[0mws\u001b[0m \u001b[1;33m=\u001b[0m \u001b[0mmorphology\u001b[0m\u001b[1;33m.\u001b[0m\u001b[0mwatershed\u001b[0m\u001b[1;33m(\u001b[0m\u001b[0mblurred\u001b[0m\u001b[1;33m,\u001b[0m \u001b[0mseed_mask\u001b[0m\u001b[1;33m)\u001b[0m\u001b[1;33m\u001b[0m\u001b[0m\n\u001b[0m\u001b[0;32m      2\u001b[0m \u001b[0mplt\u001b[0m\u001b[1;33m.\u001b[0m\u001b[0mimshow\u001b[0m\u001b[1;33m(\u001b[0m\u001b[0mws\u001b[0m\u001b[1;33m)\u001b[0m\u001b[1;33m\u001b[0m\u001b[0m\n",
      "\u001b[1;31mNameError\u001b[0m: name 'blurred' is not defined"
     ]
    }
   ],
   "source": [
    "ws = morphology.watershed(blurred, seed_mask)\n",
    "plt.imshow(ws)"
   ]
  },
  {
   "cell_type": "code",
   "execution_count": null,
   "metadata": {},
   "outputs": [],
   "source": []
  },
  {
   "cell_type": "code",
   "execution_count": null,
   "metadata": {},
   "outputs": [],
   "source": []
  },
  {
   "cell_type": "code",
   "execution_count": null,
   "metadata": {},
   "outputs": [],
   "source": []
  },
  {
   "cell_type": "code",
   "execution_count": null,
   "metadata": {},
   "outputs": [],
   "source": []
  },
  {
   "cell_type": "code",
   "execution_count": null,
   "metadata": {},
   "outputs": [],
   "source": []
  },
  {
   "cell_type": "code",
   "execution_count": null,
   "metadata": {},
   "outputs": [],
   "source": []
  },
  {
   "cell_type": "code",
   "execution_count": null,
   "metadata": {},
   "outputs": [],
   "source": []
  },
  {
   "cell_type": "code",
   "execution_count": null,
   "metadata": {},
   "outputs": [],
   "source": []
  },
  {
   "cell_type": "code",
   "execution_count": 2,
   "metadata": {},
   "outputs": [],
   "source": [
    "from skimage import io as skio\n",
    "from skimage import filters\n",
    "import numpy as np\n",
    "import matplotlib.pyplot as plt\n",
    "from scipy import ndimage as ndi\n",
    "from skimage import morphology\n",
    "import cv2"
   ]
  },
  {
   "cell_type": "code",
   "execution_count": 7,
   "metadata": {},
   "outputs": [],
   "source": [
    "#made with help from https://stackoverflow.com/questions/29313667/how-do-i-remove-the-background-from-this-kind-of-image\n",
    "# replaces background with given color in bgr and saves to new path\n",
    "    # default color = yellow bc yellow is not used as a shoe color\n",
    "    #img_path = src, new_img_path = dest\n",
    "def replace_background(img_path, new_img_path, color=(0.0,1.0,1.0)):\n",
    "    #== Parameters =======================================================================\n",
    "    BLUR = 21\n",
    "    CANNY_THRESH_1 = 10\n",
    "    CANNY_THRESH_2 = 200\n",
    "    MASK_DILATE_ITER = 10\n",
    "    MASK_ERODE_ITER = 10\n",
    "    MASK_COLOR = color # yellow In BGR format\n",
    "    #== Processing =======================================================================\n",
    "\n",
    "    #-- Read image -----------------------------------------------------------------------\n",
    "    img = cv2.imread(str(img_path))\n",
    "    gray = cv2.cvtColor(img,cv2.COLOR_BGR2GRAY)\n",
    "    #-- Edge detection -------------------------------------------------------------------\n",
    "    edges = cv2.Canny(gray, CANNY_THRESH_1, CANNY_THRESH_2)\n",
    "    edges = cv2.dilate(edges, None)\n",
    "    edges = cv2.erode(edges, None)\n",
    "    #-- Find contours in edges, sort by area ---------------------------------------------\n",
    "    contour_info = []\n",
    "    _, contours, _ = cv2.findContours(edges, cv2.RETR_LIST, cv2.CHAIN_APPROX_NONE)\n",
    "    # Previously, for a previous version of cv2, this line was: \n",
    "    #  contours, _ = cv2.findContours(edges, cv2.RETR_LIST, cv2.CHAIN_APPROX_NONE)\n",
    "    # Thanks to notes from commenters, I've updated the code but left this note\n",
    "    for c in contours:\n",
    "        contour_info.append((\n",
    "            c,\n",
    "            cv2.isContourConvex(c),\n",
    "            cv2.contourArea(c),\n",
    "        ))\n",
    "    contour_info = sorted(contour_info, key=lambda c: c[2], reverse=True)\n",
    "    max_contour = contour_info[0]\n",
    "    #-- Create empty mask, draw filled polygon on it corresponding to largest contour ----\n",
    "    # Mask is black, polygon is white\n",
    "    mask = np.zeros(edges.shape)\n",
    "    cv2.fillConvexPoly(mask, max_contour[0], (255))\n",
    "    #-- Smooth mask, then blur it --------------------------------------------------------\n",
    "    mask = cv2.dilate(mask, None, iterations=MASK_DILATE_ITER)\n",
    "    mask = cv2.erode(mask, None, iterations=MASK_ERODE_ITER)\n",
    "    mask = cv2.GaussianBlur(mask, (BLUR, BLUR), 0)\n",
    "    mask_stack = np.dstack([mask]*3)    # Create 3-channel alpha mask\n",
    "    #-- Blend masked img into MASK_COLOR background --------------------------------------\n",
    "    mask_stack  = mask_stack.astype('float32') / 255.0          # Use float matrices, \n",
    "    img         = img.astype('float32') / 255.0                 #  for easy blending\n",
    "\n",
    "    masked = (mask_stack * img) + ((1-mask_stack) * MASK_COLOR) # Blend\n",
    "    masked = (masked * 255).astype('uint8')                     # Convert back to 8-bit \n",
    "\n",
    "    #cv2.imshow('img', masked)                                   # Display\n",
    "    #cv2.waitKey(5)\n",
    "    cv2.imwrite(new_img_path, masked)"
   ]
  },
  {
   "cell_type": "code",
   "execution_count": 6,
   "metadata": {},
   "outputs": [],
   "source": [
    "img_path = \"C:\\\\Users\\jason\\\\UT\\Junior_1st_Semester\\EE_460J\\\\finalProject\\DataScienceFinalProject\\Formals\\\\102170.216.jpg\"\n",
    "new_img_path = \"C:\\\\Users\\jason\\\\UT\\Junior_1st_Semester\\EE_460J\\\\finalProject\\DataScienceFinalProject\\Formals\\\\102170.216_new.jpg\"\n",
    "replace_background(img_path, new_img_path)"
   ]
  },
  {
   "cell_type": "code",
   "execution_count": null,
   "metadata": {},
   "outputs": [],
   "source": []
  }
 ],
 "metadata": {
  "kernelspec": {
   "display_name": "Python 3",
   "language": "python",
   "name": "python3"
  },
  "language_info": {
   "codemirror_mode": {
    "name": "ipython",
    "version": 3
   },
   "file_extension": ".py",
   "mimetype": "text/x-python",
   "name": "python",
   "nbconvert_exporter": "python",
   "pygments_lexer": "ipython3",
   "version": "3.7.0"
  }
 },
 "nbformat": 4,
 "nbformat_minor": 2
}
